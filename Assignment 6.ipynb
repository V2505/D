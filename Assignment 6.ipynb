{
 "cells": [
  {
   "cell_type": "code",
   "execution_count": 112,
   "id": "bdb157ea-a1f6-4d8a-8265-d90a8cfb5946",
   "metadata": {},
   "outputs": [],
   "source": [
    "import numpy as np\n",
    "import pandas as pd"
   ]
  },
  {
   "cell_type": "code",
   "execution_count": 113,
   "id": "87c3ca55-7ec6-4f04-aa84-f8b36b26285c",
   "metadata": {},
   "outputs": [
    {
     "data": {
      "text/html": [
       "<div>\n",
       "<style scoped>\n",
       "    .dataframe tbody tr th:only-of-type {\n",
       "        vertical-align: middle;\n",
       "    }\n",
       "\n",
       "    .dataframe tbody tr th {\n",
       "        vertical-align: top;\n",
       "    }\n",
       "\n",
       "    .dataframe thead th {\n",
       "        text-align: right;\n",
       "    }\n",
       "</style>\n",
       "<table border=\"1\" class=\"dataframe\">\n",
       "  <thead>\n",
       "    <tr style=\"text-align: right;\">\n",
       "      <th></th>\n",
       "      <th>Id</th>\n",
       "      <th>SepalLengthCm</th>\n",
       "      <th>SepalWidthCm</th>\n",
       "      <th>PetalLengthCm</th>\n",
       "      <th>PetalWidthCm</th>\n",
       "      <th>Species</th>\n",
       "    </tr>\n",
       "  </thead>\n",
       "  <tbody>\n",
       "    <tr>\n",
       "      <th>0</th>\n",
       "      <td>1</td>\n",
       "      <td>5.1</td>\n",
       "      <td>3.5</td>\n",
       "      <td>1.4</td>\n",
       "      <td>0.2</td>\n",
       "      <td>Iris-setosa</td>\n",
       "    </tr>\n",
       "    <tr>\n",
       "      <th>1</th>\n",
       "      <td>2</td>\n",
       "      <td>4.9</td>\n",
       "      <td>3.0</td>\n",
       "      <td>1.4</td>\n",
       "      <td>0.2</td>\n",
       "      <td>Iris-setosa</td>\n",
       "    </tr>\n",
       "    <tr>\n",
       "      <th>2</th>\n",
       "      <td>3</td>\n",
       "      <td>4.7</td>\n",
       "      <td>3.2</td>\n",
       "      <td>1.3</td>\n",
       "      <td>0.2</td>\n",
       "      <td>Iris-setosa</td>\n",
       "    </tr>\n",
       "    <tr>\n",
       "      <th>3</th>\n",
       "      <td>4</td>\n",
       "      <td>4.6</td>\n",
       "      <td>3.1</td>\n",
       "      <td>1.5</td>\n",
       "      <td>0.2</td>\n",
       "      <td>Iris-setosa</td>\n",
       "    </tr>\n",
       "    <tr>\n",
       "      <th>4</th>\n",
       "      <td>5</td>\n",
       "      <td>5.0</td>\n",
       "      <td>3.6</td>\n",
       "      <td>1.4</td>\n",
       "      <td>0.2</td>\n",
       "      <td>Iris-setosa</td>\n",
       "    </tr>\n",
       "    <tr>\n",
       "      <th>...</th>\n",
       "      <td>...</td>\n",
       "      <td>...</td>\n",
       "      <td>...</td>\n",
       "      <td>...</td>\n",
       "      <td>...</td>\n",
       "      <td>...</td>\n",
       "    </tr>\n",
       "    <tr>\n",
       "      <th>145</th>\n",
       "      <td>146</td>\n",
       "      <td>6.7</td>\n",
       "      <td>3.0</td>\n",
       "      <td>5.2</td>\n",
       "      <td>2.3</td>\n",
       "      <td>Iris-virginica</td>\n",
       "    </tr>\n",
       "    <tr>\n",
       "      <th>146</th>\n",
       "      <td>147</td>\n",
       "      <td>6.3</td>\n",
       "      <td>2.5</td>\n",
       "      <td>5.0</td>\n",
       "      <td>1.9</td>\n",
       "      <td>Iris-virginica</td>\n",
       "    </tr>\n",
       "    <tr>\n",
       "      <th>147</th>\n",
       "      <td>148</td>\n",
       "      <td>6.5</td>\n",
       "      <td>3.0</td>\n",
       "      <td>5.2</td>\n",
       "      <td>2.0</td>\n",
       "      <td>Iris-virginica</td>\n",
       "    </tr>\n",
       "    <tr>\n",
       "      <th>148</th>\n",
       "      <td>149</td>\n",
       "      <td>6.2</td>\n",
       "      <td>3.4</td>\n",
       "      <td>5.4</td>\n",
       "      <td>2.3</td>\n",
       "      <td>Iris-virginica</td>\n",
       "    </tr>\n",
       "    <tr>\n",
       "      <th>149</th>\n",
       "      <td>150</td>\n",
       "      <td>5.9</td>\n",
       "      <td>3.0</td>\n",
       "      <td>5.1</td>\n",
       "      <td>1.8</td>\n",
       "      <td>Iris-virginica</td>\n",
       "    </tr>\n",
       "  </tbody>\n",
       "</table>\n",
       "<p>150 rows × 6 columns</p>\n",
       "</div>"
      ],
      "text/plain": [
       "      Id  SepalLengthCm  SepalWidthCm  PetalLengthCm  PetalWidthCm  \\\n",
       "0      1            5.1           3.5            1.4           0.2   \n",
       "1      2            4.9           3.0            1.4           0.2   \n",
       "2      3            4.7           3.2            1.3           0.2   \n",
       "3      4            4.6           3.1            1.5           0.2   \n",
       "4      5            5.0           3.6            1.4           0.2   \n",
       "..   ...            ...           ...            ...           ...   \n",
       "145  146            6.7           3.0            5.2           2.3   \n",
       "146  147            6.3           2.5            5.0           1.9   \n",
       "147  148            6.5           3.0            5.2           2.0   \n",
       "148  149            6.2           3.4            5.4           2.3   \n",
       "149  150            5.9           3.0            5.1           1.8   \n",
       "\n",
       "            Species  \n",
       "0       Iris-setosa  \n",
       "1       Iris-setosa  \n",
       "2       Iris-setosa  \n",
       "3       Iris-setosa  \n",
       "4       Iris-setosa  \n",
       "..              ...  \n",
       "145  Iris-virginica  \n",
       "146  Iris-virginica  \n",
       "147  Iris-virginica  \n",
       "148  Iris-virginica  \n",
       "149  Iris-virginica  \n",
       "\n",
       "[150 rows x 6 columns]"
      ]
     },
     "execution_count": 113,
     "metadata": {},
     "output_type": "execute_result"
    }
   ],
   "source": [
    "df = pd.read_csv(\"Iris.csv\")\n",
    "df"
   ]
  },
  {
   "cell_type": "code",
   "execution_count": 114,
   "id": "ea4a80b0-d08e-4bf4-b8c1-03cba4b96d2a",
   "metadata": {},
   "outputs": [
    {
     "data": {
      "text/html": [
       "<div>\n",
       "<style scoped>\n",
       "    .dataframe tbody tr th:only-of-type {\n",
       "        vertical-align: middle;\n",
       "    }\n",
       "\n",
       "    .dataframe tbody tr th {\n",
       "        vertical-align: top;\n",
       "    }\n",
       "\n",
       "    .dataframe thead th {\n",
       "        text-align: right;\n",
       "    }\n",
       "</style>\n",
       "<table border=\"1\" class=\"dataframe\">\n",
       "  <thead>\n",
       "    <tr style=\"text-align: right;\">\n",
       "      <th></th>\n",
       "      <th>Id</th>\n",
       "      <th>SepalLengthCm</th>\n",
       "      <th>SepalWidthCm</th>\n",
       "      <th>PetalLengthCm</th>\n",
       "      <th>PetalWidthCm</th>\n",
       "      <th>Species</th>\n",
       "    </tr>\n",
       "  </thead>\n",
       "  <tbody>\n",
       "    <tr>\n",
       "      <th>0</th>\n",
       "      <td>1</td>\n",
       "      <td>5.1</td>\n",
       "      <td>3.5</td>\n",
       "      <td>1.4</td>\n",
       "      <td>0.2</td>\n",
       "      <td>Iris-setosa</td>\n",
       "    </tr>\n",
       "    <tr>\n",
       "      <th>1</th>\n",
       "      <td>2</td>\n",
       "      <td>4.9</td>\n",
       "      <td>3.0</td>\n",
       "      <td>1.4</td>\n",
       "      <td>0.2</td>\n",
       "      <td>Iris-setosa</td>\n",
       "    </tr>\n",
       "    <tr>\n",
       "      <th>2</th>\n",
       "      <td>3</td>\n",
       "      <td>4.7</td>\n",
       "      <td>3.2</td>\n",
       "      <td>1.3</td>\n",
       "      <td>0.2</td>\n",
       "      <td>Iris-setosa</td>\n",
       "    </tr>\n",
       "    <tr>\n",
       "      <th>3</th>\n",
       "      <td>4</td>\n",
       "      <td>4.6</td>\n",
       "      <td>3.1</td>\n",
       "      <td>1.5</td>\n",
       "      <td>0.2</td>\n",
       "      <td>Iris-setosa</td>\n",
       "    </tr>\n",
       "    <tr>\n",
       "      <th>4</th>\n",
       "      <td>5</td>\n",
       "      <td>5.0</td>\n",
       "      <td>3.6</td>\n",
       "      <td>1.4</td>\n",
       "      <td>0.2</td>\n",
       "      <td>Iris-setosa</td>\n",
       "    </tr>\n",
       "    <tr>\n",
       "      <th>5</th>\n",
       "      <td>6</td>\n",
       "      <td>5.4</td>\n",
       "      <td>3.9</td>\n",
       "      <td>1.7</td>\n",
       "      <td>0.4</td>\n",
       "      <td>Iris-setosa</td>\n",
       "    </tr>\n",
       "    <tr>\n",
       "      <th>6</th>\n",
       "      <td>7</td>\n",
       "      <td>4.6</td>\n",
       "      <td>3.4</td>\n",
       "      <td>1.4</td>\n",
       "      <td>0.3</td>\n",
       "      <td>Iris-setosa</td>\n",
       "    </tr>\n",
       "    <tr>\n",
       "      <th>7</th>\n",
       "      <td>8</td>\n",
       "      <td>5.0</td>\n",
       "      <td>3.4</td>\n",
       "      <td>1.5</td>\n",
       "      <td>0.2</td>\n",
       "      <td>Iris-setosa</td>\n",
       "    </tr>\n",
       "    <tr>\n",
       "      <th>8</th>\n",
       "      <td>9</td>\n",
       "      <td>4.4</td>\n",
       "      <td>2.9</td>\n",
       "      <td>1.4</td>\n",
       "      <td>0.2</td>\n",
       "      <td>Iris-setosa</td>\n",
       "    </tr>\n",
       "    <tr>\n",
       "      <th>9</th>\n",
       "      <td>10</td>\n",
       "      <td>4.9</td>\n",
       "      <td>3.1</td>\n",
       "      <td>1.5</td>\n",
       "      <td>0.1</td>\n",
       "      <td>Iris-setosa</td>\n",
       "    </tr>\n",
       "  </tbody>\n",
       "</table>\n",
       "</div>"
      ],
      "text/plain": [
       "   Id  SepalLengthCm  SepalWidthCm  PetalLengthCm  PetalWidthCm      Species\n",
       "0   1            5.1           3.5            1.4           0.2  Iris-setosa\n",
       "1   2            4.9           3.0            1.4           0.2  Iris-setosa\n",
       "2   3            4.7           3.2            1.3           0.2  Iris-setosa\n",
       "3   4            4.6           3.1            1.5           0.2  Iris-setosa\n",
       "4   5            5.0           3.6            1.4           0.2  Iris-setosa\n",
       "5   6            5.4           3.9            1.7           0.4  Iris-setosa\n",
       "6   7            4.6           3.4            1.4           0.3  Iris-setosa\n",
       "7   8            5.0           3.4            1.5           0.2  Iris-setosa\n",
       "8   9            4.4           2.9            1.4           0.2  Iris-setosa\n",
       "9  10            4.9           3.1            1.5           0.1  Iris-setosa"
      ]
     },
     "execution_count": 114,
     "metadata": {},
     "output_type": "execute_result"
    }
   ],
   "source": [
    "df.head(10)"
   ]
  },
  {
   "cell_type": "markdown",
   "id": "c52f122d",
   "metadata": {},
   "source": []
  },
  {
   "cell_type": "code",
   "execution_count": 115,
   "id": "e7edd190-3630-4767-912f-3d21af55f8d9",
   "metadata": {},
   "outputs": [
    {
     "data": {
      "text/plain": [
       "Id               0\n",
       "SepalLengthCm    0\n",
       "SepalWidthCm     0\n",
       "PetalLengthCm    0\n",
       "PetalWidthCm     0\n",
       "Species          0\n",
       "dtype: int64"
      ]
     },
     "execution_count": 115,
     "metadata": {},
     "output_type": "execute_result"
    }
   ],
   "source": [
    "df.isnull().sum()"
   ]
  },
  {
   "cell_type": "code",
   "execution_count": 116,
   "id": "2cd65a0d-6dc0-40b7-9745-35d4fb526cab",
   "metadata": {},
   "outputs": [
    {
     "data": {
      "text/plain": [
       "Id                 int64\n",
       "SepalLengthCm    float64\n",
       "SepalWidthCm     float64\n",
       "PetalLengthCm    float64\n",
       "PetalWidthCm     float64\n",
       "Species           object\n",
       "dtype: object"
      ]
     },
     "execution_count": 116,
     "metadata": {},
     "output_type": "execute_result"
    }
   ],
   "source": [
    "df.dtypes"
   ]
  },
  {
   "cell_type": "code",
   "execution_count": 117,
   "id": "5febe8c2-4025-42ac-bd81-a5be0915e9eb",
   "metadata": {},
   "outputs": [
    {
     "name": "stdout",
     "output_type": "stream",
     "text": [
      "<class 'pandas.core.frame.DataFrame'>\n",
      "RangeIndex: 150 entries, 0 to 149\n",
      "Data columns (total 6 columns):\n",
      " #   Column         Non-Null Count  Dtype  \n",
      "---  ------         --------------  -----  \n",
      " 0   Id             150 non-null    int64  \n",
      " 1   SepalLengthCm  150 non-null    float64\n",
      " 2   SepalWidthCm   150 non-null    float64\n",
      " 3   PetalLengthCm  150 non-null    float64\n",
      " 4   PetalWidthCm   150 non-null    float64\n",
      " 5   Species        150 non-null    object \n",
      "dtypes: float64(4), int64(1), object(1)\n",
      "memory usage: 7.2+ KB\n"
     ]
    }
   ],
   "source": [
    "df.info()"
   ]
  },
  {
   "cell_type": "code",
   "execution_count": 118,
   "id": "63ca6b06-768e-4e43-a26b-aca23e1295dd",
   "metadata": {},
   "outputs": [
    {
     "data": {
      "text/plain": [
       "(150, 6)"
      ]
     },
     "execution_count": 118,
     "metadata": {},
     "output_type": "execute_result"
    }
   ],
   "source": [
    "df.shape"
   ]
  },
  {
   "cell_type": "code",
   "execution_count": 119,
   "id": "30963d68",
   "metadata": {},
   "outputs": [
    {
     "data": {
      "text/plain": [
       "(150, 6)"
      ]
     },
     "execution_count": 119,
     "metadata": {},
     "output_type": "execute_result"
    }
   ],
   "source": [
    "df.shape"
   ]
  },
  {
   "cell_type": "code",
   "execution_count": 120,
   "id": "c5f5f551",
   "metadata": {},
   "outputs": [
    {
     "data": {
      "text/plain": [
       "900"
      ]
     },
     "execution_count": 120,
     "metadata": {},
     "output_type": "execute_result"
    }
   ],
   "source": [
    "df.size "
   ]
  },
  {
   "cell_type": "code",
   "execution_count": 121,
   "id": "d1c7cd3c",
   "metadata": {},
   "outputs": [],
   "source": [
    "df['Species'] = df['Species'].replace({'Iris-setosa': 0, 'Iris-versicolor': 1,'Iris-virginica': 2}).astype(int)"
   ]
  },
  {
   "cell_type": "code",
   "execution_count": 122,
   "id": "ad9b22dc-9537-4ba8-8ae8-706a7ae19f1a",
   "metadata": {},
   "outputs": [],
   "source": [
    "X = df[['SepalLengthCm', 'SepalWidthCm', 'PetalLengthCm', 'PetalWidthCm']]\n",
    "Y = df['Species']"
   ]
  },
  {
   "cell_type": "code",
   "execution_count": 123,
   "id": "a587a82c-a2de-4315-9c14-d54039257d48",
   "metadata": {},
   "outputs": [
    {
     "name": "stdout",
     "output_type": "stream",
     "text": [
      "(120, 4)\n",
      "(30, 4)\n",
      "(120,)\n",
      "(30,)\n"
     ]
    }
   ],
   "source": [
    "from sklearn.model_selection import train_test_split\n",
    "X_train, X_test, Y_train, Y_test = train_test_split(X, Y, test_size=0.2, random_state = 42)\n",
    "\n",
    "print(X_train.shape)\n",
    "print(X_test.shape)\n",
    "print(Y_train.shape)\n",
    "print(Y_test.shape)"
   ]
  },
  {
   "cell_type": "code",
   "execution_count": 124,
   "id": "322534dc-3d94-446d-9ac3-f9208eb78d3a",
   "metadata": {},
   "outputs": [],
   "source": [
    "from sklearn.preprocessing import StandardScaler\n",
    "scaler = StandardScaler()\n",
    "X_train = scaler.fit_transform(X_train)\n",
    "X_test = scaler.transform(X_test)"
   ]
  },
  {
   "cell_type": "code",
   "execution_count": 125,
   "id": "d0364b91-d56e-416a-a988-a139caa0a39f",
   "metadata": {},
   "outputs": [
    {
     "name": "stdout",
     "output_type": "stream",
     "text": [
      "Transformed X_train :-\n",
      " [[-1.47393679  1.22037928 -1.5639872  -1.30948358]\n",
      " [-0.13307079  3.02001693 -1.27728011 -1.04292204]\n",
      " [ 1.08589829  0.09560575  0.38562104  0.28988568]\n",
      " [-1.23014297  0.77046987 -1.21993869 -1.30948358]\n",
      " [-1.7177306   0.32056046 -1.39196294 -1.30948358]\n",
      " [ 0.59831066 -1.25412249  0.72966956  0.95628954]\n",
      " [ 0.72020757  0.32056046  0.44296246  0.42316645]\n",
      " [-0.74255534  0.99542457 -1.27728011 -1.30948358]\n",
      " [-0.98634915  1.22037928 -1.33462153 -1.30948358]\n",
      " [-0.74255534  2.34515281 -1.27728011 -1.44276436]\n",
      " [-0.01117388 -0.80421307  0.78701097  0.95628954]\n",
      " [ 0.23261993  0.77046987  0.44296246  0.55644722]\n",
      " [ 1.08589829  0.09560575  0.5576453   0.42316645]\n",
      " [-0.49876152  1.8952434  -1.39196294 -1.04292204]\n",
      " [-0.49876152  1.44533399 -1.27728011 -1.30948358]\n",
      " [-0.37686461 -1.47907719 -0.01576889 -0.24323741]\n",
      " [ 0.59831066 -0.57925837  0.78701097  0.42316645]\n",
      " [ 0.72020757  0.09560575  1.01637665  0.82300877]\n",
      " [ 0.96400139 -0.12934896  0.38562104  0.28988568]\n",
      " [ 1.69538284  1.22037928  1.36042516  1.75597417]\n",
      " [-0.13307079 -0.35430366  0.2709382   0.15660491]\n",
      " [ 2.18297047 -0.12934896  1.64713226  1.22285108]\n",
      " [-0.2549677  -0.12934896  0.44296246  0.42316645]\n",
      " [-0.86445224  0.99542457 -1.33462153 -1.30948358]\n",
      " [ 2.30486738 -0.57925837  1.70447368  1.08957031]\n",
      " [-0.01117388 -0.80421307  0.21359679 -0.24323741]\n",
      " [-0.74255534  0.77046987 -1.33462153 -1.30948358]\n",
      " [-0.98634915  0.99542457 -1.39196294 -1.17620281]\n",
      " [-0.86445224  1.67028869 -1.04791443 -1.04292204]\n",
      " [-0.98634915 -2.37889602 -0.13045173 -0.24323741]\n",
      " [ 0.59831066 -0.80421307  0.67232814  0.82300877]\n",
      " [-1.23014297  0.77046987 -1.04791443 -1.30948358]\n",
      " [-0.98634915 -0.12934896 -1.21993869 -1.30948358]\n",
      " [-0.86445224  0.54551516 -1.16259727 -0.90964127]\n",
      " [-0.2549677  -0.80421307  0.2709382   0.15660491]\n",
      " [-0.86445224  0.77046987 -1.27728011 -1.30948358]\n",
      " [-0.13307079 -0.12934896  0.2709382   0.02332414]\n",
      " [ 2.30486738  1.67028869  1.70447368  1.35613185]\n",
      " [-1.47393679  0.32056046 -1.33462153 -1.30948358]\n",
      " [ 0.47641375 -0.35430366  0.32827962  0.15660491]\n",
      " [-0.13307079 -1.25412249  0.72966956  1.08957031]\n",
      " [-0.37686461  2.57010752 -1.33462153 -1.30948358]\n",
      " [ 0.23261993 -0.12934896  0.61498672  0.82300877]\n",
      " [-0.01117388 -0.80421307  0.78701097  0.95628954]\n",
      " [ 0.23261993 -1.9289866   0.15625537 -0.24323741]\n",
      " [-0.49876152 -0.12934896  0.44296246  0.42316645]\n",
      " [ 0.47641375  0.77046987  0.95903523  1.48941263]\n",
      " [-0.37686461 -1.7040319   0.15625537  0.15660491]\n",
      " [-0.49876152  1.8952434  -1.16259727 -1.04292204]\n",
      " [-0.98634915 -1.7040319  -0.24513457 -0.24323741]\n",
      " [ 0.72020757 -0.80421307  0.90169381  0.95628954]\n",
      " [-0.98634915  0.54551516 -1.33462153 -1.30948358]\n",
      " [-0.98634915  0.32056046 -1.44930436 -1.30948358]\n",
      " [-0.37686461 -1.47907719  0.04157253 -0.10995664]\n",
      " [ 1.08589829 -0.12934896  0.72966956  0.68972799]\n",
      " [-1.10824606  0.09560575 -1.27728011 -1.44276436]\n",
      " [-0.01117388 -0.57925837  0.78701097  1.6226934 ]\n",
      " [-0.98634915  0.77046987 -1.27728011 -1.30948358]\n",
      " [-0.98634915  0.99542457 -1.21993869 -0.7763605 ]\n",
      " [ 0.11072303  0.32056046  0.61498672  0.82300877]\n",
      " [-0.86445224 -1.25412249 -0.41715882 -0.10995664]\n",
      " [ 1.32969211  0.32056046  1.13105949  1.48941263]\n",
      " [ 0.23261993 -0.80421307  0.78701097  0.55644722]\n",
      " [ 0.35451684 -1.02916778  1.07371807  0.28988568]\n",
      " [ 2.30486738 -0.12934896  1.36042516  1.48941263]\n",
      " [-0.37686461 -1.25412249  0.15625537  0.15660491]\n",
      " [-1.7177306  -0.35430366 -1.33462153 -1.30948358]\n",
      " [-1.83962751 -0.12934896 -1.50664578 -1.44276436]\n",
      " [ 0.23261993 -1.9289866   0.72966956  0.42316645]\n",
      " [ 1.69538284  0.32056046  1.30308374  0.82300877]\n",
      " [-1.47393679  0.09560575 -1.27728011 -1.30948358]\n",
      " [-0.86445224  0.99542457 -1.33462153 -1.17620281]\n",
      " [-1.7177306  -0.12934896 -1.39196294 -1.30948358]\n",
      " [ 0.59831066 -1.25412249  0.67232814  0.42316645]\n",
      " [ 0.59831066  0.77046987  1.07371807  1.6226934 ]\n",
      " [-1.47393679  0.77046987 -1.33462153 -1.17620281]\n",
      " [ 1.2077952  -0.12934896  1.01637665  1.22285108]\n",
      " [ 0.59831066  0.54551516  1.30308374  1.75597417]\n",
      " [-1.35203988  0.32056046 -1.39196294 -1.30948358]\n",
      " [ 0.35451684 -0.35430366  0.5576453   0.28988568]\n",
      " [ 0.84210448 -0.57925837  0.50030388  0.42316645]\n",
      " [ 0.47641375 -0.57925837  0.61498672  0.82300877]\n",
      " [ 1.45158902  0.32056046  0.5576453   0.28988568]\n",
      " [ 0.72020757  0.32056046  0.90169381  1.48941263]\n",
      " [-0.86445224  1.67028869 -1.21993869 -1.30948358]\n",
      " [ 1.32969211  0.09560575  0.95903523  1.22285108]\n",
      " [ 0.11072303 -0.12934896  0.2709382   0.42316645]\n",
      " [ 0.84210448 -0.12934896  0.84435239  1.08957031]\n",
      " [-0.13307079 -1.02916778 -0.13045173 -0.24323741]\n",
      " [-0.74255534 -0.80421307  0.09891395  0.28988568]\n",
      " [ 0.35451684 -0.12934896  0.50030388  0.28988568]\n",
      " [-1.5958337  -1.7040319  -1.39196294 -1.17620281]\n",
      " [ 0.96400139 -0.35430366  0.50030388  0.15660491]\n",
      " [-0.37686461 -1.02916778  0.38562104  0.02332414]\n",
      " [-0.62065843  1.44533399 -1.27728011 -1.30948358]\n",
      " [-0.2549677  -0.12934896  0.21359679  0.15660491]\n",
      " [ 1.81727975 -0.35430366  1.475108    0.82300877]\n",
      " [ 1.08589829  0.54551516  1.13105949  1.22285108]\n",
      " [-0.86445224  1.44533399 -1.27728011 -1.04292204]\n",
      " [-1.10824606 -1.47907719 -0.24513457 -0.24323741]\n",
      " [ 1.08589829  0.54551516  1.13105949  1.75597417]\n",
      " [ 1.69538284 -0.12934896  1.18840091  0.55644722]\n",
      " [-1.10824606  0.09560575 -1.27728011 -1.44276436]\n",
      " [ 1.08589829  0.09560575  1.07371807  1.6226934 ]\n",
      " [-1.10824606 -0.12934896 -1.33462153 -1.30948358]\n",
      " [ 1.32969211  0.09560575  0.67232814  0.42316645]\n",
      " [ 1.93917666 -0.57925837  1.36042516  0.95628954]\n",
      " [ 0.59831066 -0.35430366  1.07371807  0.82300877]\n",
      " [-0.13307079 -0.57925837  0.21359679  0.15660491]\n",
      " [ 0.84210448 -0.12934896  1.01637665  0.82300877]\n",
      " [ 0.59831066 -1.7040319   0.38562104  0.15660491]\n",
      " [ 0.72020757 -0.35430366  0.32827962  0.15660491]\n",
      " [-0.2549677  -0.57925837  0.67232814  1.08957031]\n",
      " [ 0.11072303 -0.12934896  0.78701097  0.82300877]\n",
      " [-0.49876152  0.77046987 -1.16259727 -1.30948358]\n",
      " [ 0.35451684 -0.57925837  0.15625537  0.15660491]\n",
      " [-1.10824606 -1.25412249  0.44296246  0.68972799]\n",
      " [-0.01117388  2.1201981  -1.44930436 -1.30948358]\n",
      " [-0.01117388 -1.02916778  0.15625537  0.02332414]\n",
      " [ 1.57348593 -0.12934896  1.24574233  1.22285108]]\n",
      "Transformed X_test :-\n",
      " [[ 0.35451684 -0.57925837  0.5576453   0.02332414]\n",
      " [-0.13307079  1.67028869 -1.16259727 -1.17620281]\n",
      " [ 2.30486738 -1.02916778  1.81915651  1.48941263]\n",
      " [ 0.23261993 -0.35430366  0.44296246  0.42316645]\n",
      " [ 1.2077952  -0.57925837  0.61498672  0.28988568]\n",
      " [-0.49876152  0.77046987 -1.27728011 -1.04292204]\n",
      " [-0.2549677  -0.35430366 -0.07311031  0.15660491]\n",
      " [ 1.32969211  0.09560575  0.78701097  1.48941263]\n",
      " [ 0.47641375 -1.9289866   0.44296246  0.42316645]\n",
      " [-0.01117388 -0.80421307  0.09891395  0.02332414]\n",
      " [ 0.84210448  0.32056046  0.78701097  1.08957031]\n",
      " [-1.23014297 -0.12934896 -1.33462153 -1.44276436]\n",
      " [-0.37686461  0.99542457 -1.39196294 -1.30948358]\n",
      " [-1.10824606  0.09560575 -1.27728011 -1.44276436]\n",
      " [-0.86445224  1.67028869 -1.27728011 -1.17620281]\n",
      " [ 0.59831066  0.54551516  0.5576453   0.55644722]\n",
      " [ 0.84210448 -0.12934896  1.18840091  1.35613185]\n",
      " [-0.2549677  -1.25412249  0.09891395 -0.10995664]\n",
      " [-0.13307079 -0.57925837  0.44296246  0.15660491]\n",
      " [ 0.72020757 -0.57925837  1.07371807  1.35613185]\n",
      " [-1.35203988  0.32056046 -1.21993869 -1.30948358]\n",
      " [ 0.35451684 -0.12934896  0.67232814  0.82300877]\n",
      " [-0.98634915  0.77046987 -1.21993869 -1.04292204]\n",
      " [ 0.72020757 -0.57925837  1.07371807  1.22285108]\n",
      " [ 2.5486612   1.67028869  1.53244942  1.08957031]\n",
      " [ 1.08589829 -0.12934896  0.84435239  1.48941263]\n",
      " [ 1.08589829 -1.25412249  1.18840091  0.82300877]\n",
      " [ 1.2077952   0.32056046  1.24574233  1.48941263]\n",
      " [-1.23014297 -0.12934896 -1.33462153 -1.17620281]\n",
      " [-1.23014297  0.09560575 -1.21993869 -1.30948358]]\n"
     ]
    }
   ],
   "source": [
    "print(\"Transformed X_train :-\\n\",X_train)\n",
    "print(\"Transformed X_test :-\\n\",X_test)"
   ]
  },
  {
   "cell_type": "code",
   "execution_count": 126,
   "id": "72805d0a-0776-413f-87b1-71fd34da4953",
   "metadata": {},
   "outputs": [
    {
     "data": {
      "text/html": [
       "<style>#sk-container-id-4 {color: black;}#sk-container-id-4 pre{padding: 0;}#sk-container-id-4 div.sk-toggleable {background-color: white;}#sk-container-id-4 label.sk-toggleable__label {cursor: pointer;display: block;width: 100%;margin-bottom: 0;padding: 0.3em;box-sizing: border-box;text-align: center;}#sk-container-id-4 label.sk-toggleable__label-arrow:before {content: \"▸\";float: left;margin-right: 0.25em;color: #696969;}#sk-container-id-4 label.sk-toggleable__label-arrow:hover:before {color: black;}#sk-container-id-4 div.sk-estimator:hover label.sk-toggleable__label-arrow:before {color: black;}#sk-container-id-4 div.sk-toggleable__content {max-height: 0;max-width: 0;overflow: hidden;text-align: left;background-color: #f0f8ff;}#sk-container-id-4 div.sk-toggleable__content pre {margin: 0.2em;color: black;border-radius: 0.25em;background-color: #f0f8ff;}#sk-container-id-4 input.sk-toggleable__control:checked~div.sk-toggleable__content {max-height: 200px;max-width: 100%;overflow: auto;}#sk-container-id-4 input.sk-toggleable__control:checked~label.sk-toggleable__label-arrow:before {content: \"▾\";}#sk-container-id-4 div.sk-estimator input.sk-toggleable__control:checked~label.sk-toggleable__label {background-color: #d4ebff;}#sk-container-id-4 div.sk-label input.sk-toggleable__control:checked~label.sk-toggleable__label {background-color: #d4ebff;}#sk-container-id-4 input.sk-hidden--visually {border: 0;clip: rect(1px 1px 1px 1px);clip: rect(1px, 1px, 1px, 1px);height: 1px;margin: -1px;overflow: hidden;padding: 0;position: absolute;width: 1px;}#sk-container-id-4 div.sk-estimator {font-family: monospace;background-color: #f0f8ff;border: 1px dotted black;border-radius: 0.25em;box-sizing: border-box;margin-bottom: 0.5em;}#sk-container-id-4 div.sk-estimator:hover {background-color: #d4ebff;}#sk-container-id-4 div.sk-parallel-item::after {content: \"\";width: 100%;border-bottom: 1px solid gray;flex-grow: 1;}#sk-container-id-4 div.sk-label:hover label.sk-toggleable__label {background-color: #d4ebff;}#sk-container-id-4 div.sk-serial::before {content: \"\";position: absolute;border-left: 1px solid gray;box-sizing: border-box;top: 0;bottom: 0;left: 50%;z-index: 0;}#sk-container-id-4 div.sk-serial {display: flex;flex-direction: column;align-items: center;background-color: white;padding-right: 0.2em;padding-left: 0.2em;position: relative;}#sk-container-id-4 div.sk-item {position: relative;z-index: 1;}#sk-container-id-4 div.sk-parallel {display: flex;align-items: stretch;justify-content: center;background-color: white;position: relative;}#sk-container-id-4 div.sk-item::before, #sk-container-id-4 div.sk-parallel-item::before {content: \"\";position: absolute;border-left: 1px solid gray;box-sizing: border-box;top: 0;bottom: 0;left: 50%;z-index: -1;}#sk-container-id-4 div.sk-parallel-item {display: flex;flex-direction: column;z-index: 1;position: relative;background-color: white;}#sk-container-id-4 div.sk-parallel-item:first-child::after {align-self: flex-end;width: 50%;}#sk-container-id-4 div.sk-parallel-item:last-child::after {align-self: flex-start;width: 50%;}#sk-container-id-4 div.sk-parallel-item:only-child::after {width: 0;}#sk-container-id-4 div.sk-dashed-wrapped {border: 1px dashed gray;margin: 0 0.4em 0.5em 0.4em;box-sizing: border-box;padding-bottom: 0.4em;background-color: white;}#sk-container-id-4 div.sk-label label {font-family: monospace;font-weight: bold;display: inline-block;line-height: 1.2em;}#sk-container-id-4 div.sk-label-container {text-align: center;}#sk-container-id-4 div.sk-container {/* jupyter's `normalize.less` sets `[hidden] { display: none; }` but bootstrap.min.css set `[hidden] { display: none !important; }` so we also need the `!important` here to be able to override the default hidden behavior on the sphinx rendered scikit-learn.org. See: https://github.com/scikit-learn/scikit-learn/issues/21755 */display: inline-block !important;position: relative;}#sk-container-id-4 div.sk-text-repr-fallback {display: none;}</style><div id=\"sk-container-id-4\" class=\"sk-top-container\"><div class=\"sk-text-repr-fallback\"><pre>GaussianNB()</pre><b>In a Jupyter environment, please rerun this cell to show the HTML representation or trust the notebook. <br />On GitHub, the HTML representation is unable to render, please try loading this page with nbviewer.org.</b></div><div class=\"sk-container\" hidden><div class=\"sk-item\"><div class=\"sk-estimator sk-toggleable\"><input class=\"sk-toggleable__control sk-hidden--visually\" id=\"sk-estimator-id-4\" type=\"checkbox\" checked><label for=\"sk-estimator-id-4\" class=\"sk-toggleable__label sk-toggleable__label-arrow\">GaussianNB</label><div class=\"sk-toggleable__content\"><pre>GaussianNB()</pre></div></div></div></div></div>"
      ],
      "text/plain": [
       "GaussianNB()"
      ]
     },
     "execution_count": 126,
     "metadata": {},
     "output_type": "execute_result"
    }
   ],
   "source": [
    "from sklearn.naive_bayes import GaussianNB\n",
    "model = GaussianNB()\n",
    "model.fit(X_train, Y_train)"
   ]
  },
  {
   "cell_type": "code",
   "execution_count": 127,
   "id": "0bfb84a0-037b-4d07-b075-13e0af96c0b9",
   "metadata": {},
   "outputs": [
    {
     "name": "stdout",
     "output_type": "stream",
     "text": [
      "Y Prediction [1 0 2 1 1 0 1 2 1 1 2 0 0 0 0 1 2 1 1 2 0 2 0 2 2 2 2 2 0 0]\n"
     ]
    }
   ],
   "source": [
    "y_pred = model.predict(X_test)\n",
    "print(\"Y Prediction\", y_pred)"
   ]
  },
  {
   "cell_type": "code",
   "execution_count": 128,
   "id": "6f929092-279c-4e0d-9b98-040c7045a5f3",
   "metadata": {},
   "outputs": [
    {
     "name": "stdout",
     "output_type": "stream",
     "text": [
      "Confusion Matrix:\n",
      " [[10  0  0]\n",
      " [ 0  9  0]\n",
      " [ 0  0 11]]\n"
     ]
    }
   ],
   "source": [
    "from sklearn.metrics import confusion_matrix, accuracy_score, classification_report\n",
    "cm = confusion_matrix(Y_test, y_pred)\n",
    "print(\"Confusion Matrix:\\n\", cm)"
   ]
  },
  {
   "cell_type": "code",
   "execution_count": 129,
   "id": "e9d417ec-288d-4970-8123-f9ef85c46f3a",
   "metadata": {},
   "outputs": [
    {
     "name": "stdout",
     "output_type": "stream",
     "text": [
      "Accuracy:  1.0\n"
     ]
    }
   ],
   "source": [
    "accuracy = accuracy_score(Y_test, y_pred)\n",
    "print(\"Accuracy: \", accuracy)"
   ]
  },
  {
   "cell_type": "code",
   "execution_count": 130,
   "id": "ea4ac403-28ab-43da-b284-373cf41b9c48",
   "metadata": {},
   "outputs": [
    {
     "name": "stdout",
     "output_type": "stream",
     "text": [
      "Classification Report :- \n",
      "               precision    recall  f1-score   support\n",
      "\n",
      "           0       1.00      1.00      1.00        10\n",
      "           1       1.00      1.00      1.00         9\n",
      "           2       1.00      1.00      1.00        11\n",
      "\n",
      "    accuracy                           1.00        30\n",
      "   macro avg       1.00      1.00      1.00        30\n",
      "weighted avg       1.00      1.00      1.00        30\n",
      "\n"
     ]
    }
   ],
   "source": [
    "cr = classification_report(Y_test, y_pred)\n",
    "print(\"Classification Report :- \\n\", cr)"
   ]
  },
  {
   "cell_type": "code",
   "execution_count": 131,
   "id": "ec8c801e-543c-422e-8324-e72229ac2304",
   "metadata": {},
   "outputs": [],
   "source": [
    "from sklearn.metrics import precision_score, recall_score"
   ]
  },
  {
   "cell_type": "code",
   "execution_count": 132,
   "id": "d03a63f5-1964-4ec5-bb65-5bff79ee063c",
   "metadata": {},
   "outputs": [
    {
     "name": "stdout",
     "output_type": "stream",
     "text": [
      "Precision :-  1.0\n"
     ]
    }
   ],
   "source": [
    "precision = precision_score(Y_test, y_pred, average = 'weighted')\n",
    "print(\"Precision :- \", precision)"
   ]
  },
  {
   "cell_type": "code",
   "execution_count": 133,
   "id": "fdd6edcc-63bf-40d5-9e72-de40d8cc71c1",
   "metadata": {},
   "outputs": [
    {
     "name": "stdout",
     "output_type": "stream",
     "text": [
      "Recall :-  1.0\n"
     ]
    }
   ],
   "source": [
    "recall = recall_score(Y_test, y_pred, average = 'weighted')\n",
    "print(\"Recall :- \", recall)"
   ]
  },
  {
   "cell_type": "code",
   "execution_count": 134,
   "id": "f7683a34-11f3-4570-b273-cbcf8da87eaf",
   "metadata": {},
   "outputs": [
    {
     "name": "stdout",
     "output_type": "stream",
     "text": [
      "Error Rate :-  0.0\n"
     ]
    }
   ],
   "source": [
    "error = 1 - accuracy\n",
    "print(\"Error Rate :- \", error)"
   ]
  }
 ],
 "metadata": {
  "kernelspec": {
   "display_name": "Python 3 (ipykernel)",
   "language": "python",
   "name": "python3"
  },
  "language_info": {
   "codemirror_mode": {
    "name": "ipython",
    "version": 3
   },
   "file_extension": ".py",
   "mimetype": "text/x-python",
   "name": "python",
   "nbconvert_exporter": "python",
   "pygments_lexer": "ipython3",
   "version": "3.10.12"
  }
 },
 "nbformat": 4,
 "nbformat_minor": 5
}
